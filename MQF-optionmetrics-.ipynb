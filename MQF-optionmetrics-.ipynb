{
 "cells": [
  {
   "cell_type": "code",
   "execution_count": null,
   "id": "2667c544-d9e0-4972-a2e7-66aad1d178c3",
   "metadata": {},
   "outputs": [],
   "source": [
    "pip install wrds"
   ]
  },
  {
   "cell_type": "code",
   "execution_count": 2,
   "id": "8fa6b8f8-0219-4666-9584-24487092f1f9",
   "metadata": {},
   "outputs": [
    {
     "name": "stdout",
     "output_type": "stream",
     "text": [
      "Loading library list...\n",
      "Done\n"
     ]
    },
    {
     "data": {
      "text/plain": [
       "['optionm',\n",
       " 'optionm_all',\n",
       " 'optionmsamp_europe',\n",
       " 'optionmsamp_us',\n",
       " 'wrdsapps_link_crsp_optionm']"
      ]
     },
     "execution_count": 2,
     "metadata": {},
     "output_type": "execute_result"
    }
   ],
   "source": [
    "import wrds\n",
    "db = wrds.Connection()\n",
    "lib = db.list_libraries()\n",
    "om = [x for x in lib if 'option' in x]\n",
    "om"
   ]
  },
  {
   "cell_type": "code",
   "execution_count": 12,
   "id": "47ffd32d-f038-4ca6-a950-82f34806bb8a",
   "metadata": {},
   "outputs": [
    {
     "name": "stdout",
     "output_type": "stream",
     "text": [
      "Loading library list...\n",
      "Done\n"
     ]
    },
    {
     "data": {
      "text/plain": [
       "330"
      ]
     },
     "execution_count": 12,
     "metadata": {},
     "output_type": "execute_result"
    }
   ],
   "source": [
    "import wrds\n",
    "db = wrds.Connection()\n",
    "tables = db.list_tables(library='optionm')\n",
    "len(tables)"
   ]
  },
  {
   "cell_type": "code",
   "execution_count": 13,
   "id": "50e5eca4-5fa4-42ef-9470-a458d2983eb8",
   "metadata": {},
   "outputs": [
    {
     "name": "stdout",
     "output_type": "stream",
     "text": [
      "Loading library list...\n",
      "Done\n"
     ]
    },
    {
     "data": {
      "text/plain": [
       "194"
      ]
     },
     "execution_count": 13,
     "metadata": {},
     "output_type": "execute_result"
    }
   ],
   "source": [
    "import wrds\n",
    "db = wrds.Connection()\n",
    "tables = db.list_tables(library='optionm_all')\n",
    "len(tables)"
   ]
  },
  {
   "cell_type": "code",
   "execution_count": 5,
   "id": "468621ab-44e2-467c-bfa9-2decea58e11e",
   "metadata": {},
   "outputs": [
    {
     "name": "stdout",
     "output_type": "stream",
     "text": [
      "Loading library list...\n",
      "Done\n",
      "\n"
     ]
    }
   ],
   "source": [
    "import wrds\n",
    "db = wrds.Connection()\n",
    "tables = db.list_tables(library='optionm')\n",
    "\n",
    "#open file in write mode\n",
    "with open(r'/home/smusg/ltee11/tables_OF_optionm.xls', 'w') as a:\n",
    "    for b in tables:\n",
    "        #write each item on a new line\n",
    "        a.write(\"%s\\n\" % b)\n",
    "    print()"
   ]
  },
  {
   "cell_type": "code",
   "execution_count": 6,
   "id": "6c2e7d53-d341-4792-bd51-df4a11ab01b8",
   "metadata": {},
   "outputs": [
    {
     "name": "stdout",
     "output_type": "stream",
     "text": [
      "Loading library list...\n",
      "Done\n",
      "\n"
     ]
    }
   ],
   "source": [
    "import wrds\n",
    "db = wrds.Connection()\n",
    "tables = db.list_tables(library='optionm_all')\n",
    "\n",
    "#open file in write mode\n",
    "with open(r'/home/smusg/ltee11/tables_OF_optionm_all.xls', 'w') as a:\n",
    "    for b in tables:\n",
    "        #write each item on a new line\n",
    "        a.write(\"%s\\n\" % b)\n",
    "    print()"
   ]
  },
  {
   "cell_type": "code",
   "execution_count": 6,
   "id": "6fbd0055-7cb3-4604-8f62-1a068d6c574e",
   "metadata": {},
   "outputs": [
    {
     "name": "stdout",
     "output_type": "stream",
     "text": [
      "Loading library list...\n",
      "Done\n",
      "Approximately 352241 rows in optionm_all.idxdvd.\n"
     ]
    },
    {
     "data": {
      "text/plain": [
       "(3, 4)"
      ]
     },
     "execution_count": 6,
     "metadata": {},
     "output_type": "execute_result"
    }
   ],
   "source": [
    "import wrds\n",
    "db = wrds.Connection()\n",
    "db.describe_table(library='optionm_all', table='idxdvd').shape"
   ]
  },
  {
   "cell_type": "code",
   "execution_count": 7,
   "id": "4a748442-7a03-4c97-b353-a48ae59df8e5",
   "metadata": {},
   "outputs": [
    {
     "name": "stdout",
     "output_type": "stream",
     "text": [
      "Loading library list...\n",
      "Done\n",
      "Approximately 352241 rows in optionm.idxdvd.\n"
     ]
    },
    {
     "data": {
      "text/plain": [
       "(3, 4)"
      ]
     },
     "execution_count": 7,
     "metadata": {},
     "output_type": "execute_result"
    }
   ],
   "source": [
    "import wrds\n",
    "db = wrds.Connection()\n",
    "db.describe_table(library='optionm', table='idxdvd').shape"
   ]
  },
  {
   "cell_type": "code",
   "execution_count": 8,
   "id": "15563b29-74a8-4136-90c5-475b4da13eec",
   "metadata": {},
   "outputs": [
    {
     "name": "stdout",
     "output_type": "stream",
     "text": [
      "Loading library list...\n",
      "Done\n",
      "Approximately 352241 rows in optionm_all.idxdvd.\n"
     ]
    },
    {
     "data": {
      "text/html": [
       "<div>\n",
       "<style scoped>\n",
       "    .dataframe tbody tr th:only-of-type {\n",
       "        vertical-align: middle;\n",
       "    }\n",
       "\n",
       "    .dataframe tbody tr th {\n",
       "        vertical-align: top;\n",
       "    }\n",
       "\n",
       "    .dataframe thead th {\n",
       "        text-align: right;\n",
       "    }\n",
       "</style>\n",
       "<table border=\"1\" class=\"dataframe\">\n",
       "  <thead>\n",
       "    <tr style=\"text-align: right;\">\n",
       "      <th></th>\n",
       "      <th>name</th>\n",
       "      <th>nullable</th>\n",
       "      <th>type</th>\n",
       "      <th>comment</th>\n",
       "    </tr>\n",
       "  </thead>\n",
       "  <tbody>\n",
       "    <tr>\n",
       "      <th>0</th>\n",
       "      <td>secid</td>\n",
       "      <td>True</td>\n",
       "      <td>DOUBLE_PRECISION</td>\n",
       "      <td>Security ID</td>\n",
       "    </tr>\n",
       "    <tr>\n",
       "      <th>1</th>\n",
       "      <td>date</td>\n",
       "      <td>True</td>\n",
       "      <td>DATE</td>\n",
       "      <td>Date of the Dividend Yield</td>\n",
       "    </tr>\n",
       "    <tr>\n",
       "      <th>2</th>\n",
       "      <td>rate</td>\n",
       "      <td>True</td>\n",
       "      <td>DOUBLE_PRECISION</td>\n",
       "      <td>Dividend Yield</td>\n",
       "    </tr>\n",
       "  </tbody>\n",
       "</table>\n",
       "</div>"
      ],
      "text/plain": [
       "    name  nullable              type                     comment\n",
       "0  secid      True  DOUBLE_PRECISION                 Security ID\n",
       "1   date      True              DATE  Date of the Dividend Yield\n",
       "2   rate      True  DOUBLE_PRECISION              Dividend Yield"
      ]
     },
     "execution_count": 8,
     "metadata": {},
     "output_type": "execute_result"
    }
   ],
   "source": [
    "import wrds\n",
    "db = wrds.Connection()\n",
    "db.describe_table(library='optionm_all', table='idxdvd')"
   ]
  },
  {
   "cell_type": "code",
   "execution_count": 9,
   "id": "b4770333-e656-439d-af38-54aa76ef1d22",
   "metadata": {},
   "outputs": [
    {
     "name": "stdout",
     "output_type": "stream",
     "text": [
      "Loading library list...\n",
      "Done\n",
      "Approximately 352241 rows in optionm.idxdvd.\n"
     ]
    },
    {
     "data": {
      "text/html": [
       "<div>\n",
       "<style scoped>\n",
       "    .dataframe tbody tr th:only-of-type {\n",
       "        vertical-align: middle;\n",
       "    }\n",
       "\n",
       "    .dataframe tbody tr th {\n",
       "        vertical-align: top;\n",
       "    }\n",
       "\n",
       "    .dataframe thead th {\n",
       "        text-align: right;\n",
       "    }\n",
       "</style>\n",
       "<table border=\"1\" class=\"dataframe\">\n",
       "  <thead>\n",
       "    <tr style=\"text-align: right;\">\n",
       "      <th></th>\n",
       "      <th>name</th>\n",
       "      <th>nullable</th>\n",
       "      <th>type</th>\n",
       "      <th>comment</th>\n",
       "    </tr>\n",
       "  </thead>\n",
       "  <tbody>\n",
       "    <tr>\n",
       "      <th>0</th>\n",
       "      <td>secid</td>\n",
       "      <td>True</td>\n",
       "      <td>DOUBLE_PRECISION</td>\n",
       "      <td>None</td>\n",
       "    </tr>\n",
       "    <tr>\n",
       "      <th>1</th>\n",
       "      <td>date</td>\n",
       "      <td>True</td>\n",
       "      <td>DATE</td>\n",
       "      <td>None</td>\n",
       "    </tr>\n",
       "    <tr>\n",
       "      <th>2</th>\n",
       "      <td>rate</td>\n",
       "      <td>True</td>\n",
       "      <td>DOUBLE_PRECISION</td>\n",
       "      <td>None</td>\n",
       "    </tr>\n",
       "  </tbody>\n",
       "</table>\n",
       "</div>"
      ],
      "text/plain": [
       "    name  nullable              type comment\n",
       "0  secid      True  DOUBLE_PRECISION    None\n",
       "1   date      True              DATE    None\n",
       "2   rate      True  DOUBLE_PRECISION    None"
      ]
     },
     "execution_count": 9,
     "metadata": {},
     "output_type": "execute_result"
    }
   ],
   "source": [
    "import wrds\n",
    "db = wrds.Connection()\n",
    "db.describe_table(library='optionm', table='idxdvd')"
   ]
  },
  {
   "cell_type": "code",
   "execution_count": 10,
   "id": "32106014-ed69-44d1-a3ec-ba0ed68658a0",
   "metadata": {},
   "outputs": [
    {
     "name": "stdout",
     "output_type": "stream",
     "text": [
      "Loading library list...\n",
      "Done\n",
      "Approximately 115932 rows in optionm_all.securd1.\n"
     ]
    },
    {
     "data": {
      "text/html": [
       "<div>\n",
       "<style scoped>\n",
       "    .dataframe tbody tr th:only-of-type {\n",
       "        vertical-align: middle;\n",
       "    }\n",
       "\n",
       "    .dataframe tbody tr th {\n",
       "        vertical-align: top;\n",
       "    }\n",
       "\n",
       "    .dataframe thead th {\n",
       "        text-align: right;\n",
       "    }\n",
       "</style>\n",
       "<table border=\"1\" class=\"dataframe\">\n",
       "  <thead>\n",
       "    <tr style=\"text-align: right;\">\n",
       "      <th></th>\n",
       "      <th>name</th>\n",
       "      <th>nullable</th>\n",
       "      <th>type</th>\n",
       "      <th>comment</th>\n",
       "    </tr>\n",
       "  </thead>\n",
       "  <tbody>\n",
       "    <tr>\n",
       "      <th>0</th>\n",
       "      <td>secid</td>\n",
       "      <td>True</td>\n",
       "      <td>DOUBLE_PRECISION</td>\n",
       "      <td>Security ID</td>\n",
       "    </tr>\n",
       "    <tr>\n",
       "      <th>1</th>\n",
       "      <td>cusip</td>\n",
       "      <td>True</td>\n",
       "      <td>VARCHAR(8)</td>\n",
       "      <td>CUSIP Number</td>\n",
       "    </tr>\n",
       "    <tr>\n",
       "      <th>2</th>\n",
       "      <td>ticker</td>\n",
       "      <td>True</td>\n",
       "      <td>VARCHAR(6)</td>\n",
       "      <td>Ticker Symbol</td>\n",
       "    </tr>\n",
       "    <tr>\n",
       "      <th>3</th>\n",
       "      <td>sic</td>\n",
       "      <td>True</td>\n",
       "      <td>VARCHAR(4)</td>\n",
       "      <td>SIC Code</td>\n",
       "    </tr>\n",
       "    <tr>\n",
       "      <th>4</th>\n",
       "      <td>index_flag</td>\n",
       "      <td>True</td>\n",
       "      <td>VARCHAR(1)</td>\n",
       "      <td>Index Flag</td>\n",
       "    </tr>\n",
       "    <tr>\n",
       "      <th>5</th>\n",
       "      <td>exchange_d</td>\n",
       "      <td>True</td>\n",
       "      <td>DOUBLE_PRECISION</td>\n",
       "      <td>Exchange Designator</td>\n",
       "    </tr>\n",
       "    <tr>\n",
       "      <th>6</th>\n",
       "      <td>class</td>\n",
       "      <td>True</td>\n",
       "      <td>VARCHAR(1)</td>\n",
       "      <td>Class Designator</td>\n",
       "    </tr>\n",
       "    <tr>\n",
       "      <th>7</th>\n",
       "      <td>issue_type</td>\n",
       "      <td>True</td>\n",
       "      <td>VARCHAR(1)</td>\n",
       "      <td>The Type of Security</td>\n",
       "    </tr>\n",
       "    <tr>\n",
       "      <th>8</th>\n",
       "      <td>industry_group</td>\n",
       "      <td>True</td>\n",
       "      <td>DOUBLE_PRECISION</td>\n",
       "      <td>Industry Group</td>\n",
       "    </tr>\n",
       "    <tr>\n",
       "      <th>9</th>\n",
       "      <td>issuer</td>\n",
       "      <td>True</td>\n",
       "      <td>VARCHAR(28)</td>\n",
       "      <td>Description of the Issuing Company</td>\n",
       "    </tr>\n",
       "  </tbody>\n",
       "</table>\n",
       "</div>"
      ],
      "text/plain": [
       "             name  nullable              type  \\\n",
       "0           secid      True  DOUBLE_PRECISION   \n",
       "1           cusip      True        VARCHAR(8)   \n",
       "2          ticker      True        VARCHAR(6)   \n",
       "3             sic      True        VARCHAR(4)   \n",
       "4      index_flag      True        VARCHAR(1)   \n",
       "5      exchange_d      True  DOUBLE_PRECISION   \n",
       "6           class      True        VARCHAR(1)   \n",
       "7      issue_type      True        VARCHAR(1)   \n",
       "8  industry_group      True  DOUBLE_PRECISION   \n",
       "9          issuer      True       VARCHAR(28)   \n",
       "\n",
       "                              comment  \n",
       "0                         Security ID  \n",
       "1                        CUSIP Number  \n",
       "2                       Ticker Symbol  \n",
       "3                            SIC Code  \n",
       "4                          Index Flag  \n",
       "5                 Exchange Designator  \n",
       "6                    Class Designator  \n",
       "7                The Type of Security  \n",
       "8                      Industry Group  \n",
       "9  Description of the Issuing Company  "
      ]
     },
     "execution_count": 10,
     "metadata": {},
     "output_type": "execute_result"
    }
   ],
   "source": [
    "import wrds\n",
    "db = wrds.Connection()\n",
    "db.describe_table(library='optionm_all', table='securd1')"
   ]
  },
  {
   "cell_type": "code",
   "execution_count": 11,
   "id": "8682d47f-9bf4-4e37-8471-e3bb7a1af706",
   "metadata": {},
   "outputs": [
    {
     "name": "stdout",
     "output_type": "stream",
     "text": [
      "Loading library list...\n",
      "Done\n",
      "Approximately 115902 rows in optionm_all.securd.\n"
     ]
    },
    {
     "data": {
      "text/html": [
       "<div>\n",
       "<style scoped>\n",
       "    .dataframe tbody tr th:only-of-type {\n",
       "        vertical-align: middle;\n",
       "    }\n",
       "\n",
       "    .dataframe tbody tr th {\n",
       "        vertical-align: top;\n",
       "    }\n",
       "\n",
       "    .dataframe thead th {\n",
       "        text-align: right;\n",
       "    }\n",
       "</style>\n",
       "<table border=\"1\" class=\"dataframe\">\n",
       "  <thead>\n",
       "    <tr style=\"text-align: right;\">\n",
       "      <th></th>\n",
       "      <th>name</th>\n",
       "      <th>nullable</th>\n",
       "      <th>type</th>\n",
       "      <th>comment</th>\n",
       "    </tr>\n",
       "  </thead>\n",
       "  <tbody>\n",
       "    <tr>\n",
       "      <th>0</th>\n",
       "      <td>secid</td>\n",
       "      <td>True</td>\n",
       "      <td>DOUBLE_PRECISION</td>\n",
       "      <td>Security ID</td>\n",
       "    </tr>\n",
       "    <tr>\n",
       "      <th>1</th>\n",
       "      <td>cusip</td>\n",
       "      <td>True</td>\n",
       "      <td>VARCHAR(8)</td>\n",
       "      <td>CUSIP Number</td>\n",
       "    </tr>\n",
       "    <tr>\n",
       "      <th>2</th>\n",
       "      <td>ticker</td>\n",
       "      <td>True</td>\n",
       "      <td>VARCHAR(6)</td>\n",
       "      <td>Ticker Symbol</td>\n",
       "    </tr>\n",
       "    <tr>\n",
       "      <th>3</th>\n",
       "      <td>sic</td>\n",
       "      <td>True</td>\n",
       "      <td>VARCHAR(4)</td>\n",
       "      <td>SIC Code</td>\n",
       "    </tr>\n",
       "    <tr>\n",
       "      <th>4</th>\n",
       "      <td>index_flag</td>\n",
       "      <td>True</td>\n",
       "      <td>VARCHAR(1)</td>\n",
       "      <td>Index Flag</td>\n",
       "    </tr>\n",
       "    <tr>\n",
       "      <th>5</th>\n",
       "      <td>exchange_d</td>\n",
       "      <td>True</td>\n",
       "      <td>DOUBLE_PRECISION</td>\n",
       "      <td>Exchange Designator</td>\n",
       "    </tr>\n",
       "    <tr>\n",
       "      <th>6</th>\n",
       "      <td>class</td>\n",
       "      <td>True</td>\n",
       "      <td>VARCHAR(1)</td>\n",
       "      <td>Class Designator</td>\n",
       "    </tr>\n",
       "    <tr>\n",
       "      <th>7</th>\n",
       "      <td>issue_type</td>\n",
       "      <td>True</td>\n",
       "      <td>VARCHAR(1)</td>\n",
       "      <td>The Type of Security</td>\n",
       "    </tr>\n",
       "    <tr>\n",
       "      <th>8</th>\n",
       "      <td>industry_group</td>\n",
       "      <td>True</td>\n",
       "      <td>DOUBLE_PRECISION</td>\n",
       "      <td>Industry Group</td>\n",
       "    </tr>\n",
       "  </tbody>\n",
       "</table>\n",
       "</div>"
      ],
      "text/plain": [
       "             name  nullable              type               comment\n",
       "0           secid      True  DOUBLE_PRECISION           Security ID\n",
       "1           cusip      True        VARCHAR(8)          CUSIP Number\n",
       "2          ticker      True        VARCHAR(6)         Ticker Symbol\n",
       "3             sic      True        VARCHAR(4)              SIC Code\n",
       "4      index_flag      True        VARCHAR(1)            Index Flag\n",
       "5      exchange_d      True  DOUBLE_PRECISION   Exchange Designator\n",
       "6           class      True        VARCHAR(1)      Class Designator\n",
       "7      issue_type      True        VARCHAR(1)  The Type of Security\n",
       "8  industry_group      True  DOUBLE_PRECISION        Industry Group"
      ]
     },
     "execution_count": 11,
     "metadata": {},
     "output_type": "execute_result"
    }
   ],
   "source": [
    "import wrds\n",
    "db = wrds.Connection()\n",
    "db.describe_table(library='optionm_all', table='securd')"
   ]
  },
  {
   "cell_type": "code",
   "execution_count": 24,
   "id": "32e07c84-13a5-4446-9caf-06e97acd358d",
   "metadata": {},
   "outputs": [
    {
     "name": "stdout",
     "output_type": "stream",
     "text": [
      "Loading library list...\n",
      "Done\n"
     ]
    },
    {
     "data": {
      "text/plain": [
       "(505, 12)"
      ]
     },
     "execution_count": 24,
     "metadata": {},
     "output_type": "execute_result"
    }
   ],
   "source": [
    "import wrds\n",
    "db = wrds.Connection()\n",
    "index_div_yield = db.raw_sql(\"\"\"\n",
    "                                select *\n",
    "                                from optionm_all.idxdvd a, optionm_all.securd b\n",
    "                                where a.secid = b.secid\n",
    "                                and b.ticker = 'SPX'\n",
    "                                and a.date >= '01/01/2020'\n",
    "                                and a.date <= '12/31/2021'\n",
    "                                order by a.date\n",
    "                             \"\"\", \n",
    "                             date_cols=['a.date'])\n",
    "index_div_yield.shape"
   ]
  },
  {
   "cell_type": "code",
   "execution_count": 25,
   "id": "bfd93dd5-35f9-4139-b4cc-a14343b730f8",
   "metadata": {},
   "outputs": [
    {
     "data": {
      "text/html": [
       "<div>\n",
       "<style scoped>\n",
       "    .dataframe tbody tr th:only-of-type {\n",
       "        vertical-align: middle;\n",
       "    }\n",
       "\n",
       "    .dataframe tbody tr th {\n",
       "        vertical-align: top;\n",
       "    }\n",
       "\n",
       "    .dataframe thead th {\n",
       "        text-align: right;\n",
       "    }\n",
       "</style>\n",
       "<table border=\"1\" class=\"dataframe\">\n",
       "  <thead>\n",
       "    <tr style=\"text-align: right;\">\n",
       "      <th></th>\n",
       "      <th>secid</th>\n",
       "      <th>date</th>\n",
       "      <th>rate</th>\n",
       "      <th>secid</th>\n",
       "      <th>cusip</th>\n",
       "      <th>ticker</th>\n",
       "      <th>sic</th>\n",
       "      <th>index_flag</th>\n",
       "      <th>exchange_d</th>\n",
       "      <th>class</th>\n",
       "      <th>issue_type</th>\n",
       "      <th>industry_group</th>\n",
       "    </tr>\n",
       "  </thead>\n",
       "  <tbody>\n",
       "    <tr>\n",
       "      <th>0</th>\n",
       "      <td>108105.0</td>\n",
       "      <td>2020-01-02</td>\n",
       "      <td>1.777138</td>\n",
       "      <td>108105.0</td>\n",
       "      <td>64881510</td>\n",
       "      <td>SPX</td>\n",
       "      <td>9999</td>\n",
       "      <td>1</td>\n",
       "      <td>32768.0</td>\n",
       "      <td>None</td>\n",
       "      <td>A</td>\n",
       "      <td>None</td>\n",
       "    </tr>\n",
       "    <tr>\n",
       "      <th>1</th>\n",
       "      <td>108105.0</td>\n",
       "      <td>2020-01-03</td>\n",
       "      <td>1.783770</td>\n",
       "      <td>108105.0</td>\n",
       "      <td>64881510</td>\n",
       "      <td>SPX</td>\n",
       "      <td>9999</td>\n",
       "      <td>1</td>\n",
       "      <td>32768.0</td>\n",
       "      <td>None</td>\n",
       "      <td>A</td>\n",
       "      <td>None</td>\n",
       "    </tr>\n",
       "    <tr>\n",
       "      <th>2</th>\n",
       "      <td>108105.0</td>\n",
       "      <td>2020-01-06</td>\n",
       "      <td>1.804811</td>\n",
       "      <td>108105.0</td>\n",
       "      <td>64881510</td>\n",
       "      <td>SPX</td>\n",
       "      <td>9999</td>\n",
       "      <td>1</td>\n",
       "      <td>32768.0</td>\n",
       "      <td>None</td>\n",
       "      <td>A</td>\n",
       "      <td>None</td>\n",
       "    </tr>\n",
       "    <tr>\n",
       "      <th>3</th>\n",
       "      <td>108105.0</td>\n",
       "      <td>2020-01-07</td>\n",
       "      <td>1.809661</td>\n",
       "      <td>108105.0</td>\n",
       "      <td>64881510</td>\n",
       "      <td>SPX</td>\n",
       "      <td>9999</td>\n",
       "      <td>1</td>\n",
       "      <td>32768.0</td>\n",
       "      <td>None</td>\n",
       "      <td>A</td>\n",
       "      <td>None</td>\n",
       "    </tr>\n",
       "    <tr>\n",
       "      <th>4</th>\n",
       "      <td>108105.0</td>\n",
       "      <td>2020-01-08</td>\n",
       "      <td>1.797900</td>\n",
       "      <td>108105.0</td>\n",
       "      <td>64881510</td>\n",
       "      <td>SPX</td>\n",
       "      <td>9999</td>\n",
       "      <td>1</td>\n",
       "      <td>32768.0</td>\n",
       "      <td>None</td>\n",
       "      <td>A</td>\n",
       "      <td>None</td>\n",
       "    </tr>\n",
       "    <tr>\n",
       "      <th>...</th>\n",
       "      <td>...</td>\n",
       "      <td>...</td>\n",
       "      <td>...</td>\n",
       "      <td>...</td>\n",
       "      <td>...</td>\n",
       "      <td>...</td>\n",
       "      <td>...</td>\n",
       "      <td>...</td>\n",
       "      <td>...</td>\n",
       "      <td>...</td>\n",
       "      <td>...</td>\n",
       "      <td>...</td>\n",
       "    </tr>\n",
       "    <tr>\n",
       "      <th>500</th>\n",
       "      <td>108105.0</td>\n",
       "      <td>2021-12-27</td>\n",
       "      <td>1.245086</td>\n",
       "      <td>108105.0</td>\n",
       "      <td>64881510</td>\n",
       "      <td>SPX</td>\n",
       "      <td>9999</td>\n",
       "      <td>1</td>\n",
       "      <td>32768.0</td>\n",
       "      <td>None</td>\n",
       "      <td>A</td>\n",
       "      <td>None</td>\n",
       "    </tr>\n",
       "    <tr>\n",
       "      <th>501</th>\n",
       "      <td>108105.0</td>\n",
       "      <td>2021-12-28</td>\n",
       "      <td>1.248356</td>\n",
       "      <td>108105.0</td>\n",
       "      <td>64881510</td>\n",
       "      <td>SPX</td>\n",
       "      <td>9999</td>\n",
       "      <td>1</td>\n",
       "      <td>32768.0</td>\n",
       "      <td>None</td>\n",
       "      <td>A</td>\n",
       "      <td>None</td>\n",
       "    </tr>\n",
       "    <tr>\n",
       "      <th>502</th>\n",
       "      <td>108105.0</td>\n",
       "      <td>2021-12-29</td>\n",
       "      <td>1.252619</td>\n",
       "      <td>108105.0</td>\n",
       "      <td>64881510</td>\n",
       "      <td>SPX</td>\n",
       "      <td>9999</td>\n",
       "      <td>1</td>\n",
       "      <td>32768.0</td>\n",
       "      <td>None</td>\n",
       "      <td>A</td>\n",
       "      <td>None</td>\n",
       "    </tr>\n",
       "    <tr>\n",
       "      <th>503</th>\n",
       "      <td>108105.0</td>\n",
       "      <td>2021-12-30</td>\n",
       "      <td>1.246516</td>\n",
       "      <td>108105.0</td>\n",
       "      <td>64881510</td>\n",
       "      <td>SPX</td>\n",
       "      <td>9999</td>\n",
       "      <td>1</td>\n",
       "      <td>32768.0</td>\n",
       "      <td>None</td>\n",
       "      <td>A</td>\n",
       "      <td>None</td>\n",
       "    </tr>\n",
       "    <tr>\n",
       "      <th>504</th>\n",
       "      <td>108105.0</td>\n",
       "      <td>2021-12-31</td>\n",
       "      <td>1.243227</td>\n",
       "      <td>108105.0</td>\n",
       "      <td>64881510</td>\n",
       "      <td>SPX</td>\n",
       "      <td>9999</td>\n",
       "      <td>1</td>\n",
       "      <td>32768.0</td>\n",
       "      <td>None</td>\n",
       "      <td>A</td>\n",
       "      <td>None</td>\n",
       "    </tr>\n",
       "  </tbody>\n",
       "</table>\n",
       "<p>505 rows × 12 columns</p>\n",
       "</div>"
      ],
      "text/plain": [
       "        secid        date      rate     secid     cusip ticker   sic  \\\n",
       "0    108105.0  2020-01-02  1.777138  108105.0  64881510    SPX  9999   \n",
       "1    108105.0  2020-01-03  1.783770  108105.0  64881510    SPX  9999   \n",
       "2    108105.0  2020-01-06  1.804811  108105.0  64881510    SPX  9999   \n",
       "3    108105.0  2020-01-07  1.809661  108105.0  64881510    SPX  9999   \n",
       "4    108105.0  2020-01-08  1.797900  108105.0  64881510    SPX  9999   \n",
       "..        ...         ...       ...       ...       ...    ...   ...   \n",
       "500  108105.0  2021-12-27  1.245086  108105.0  64881510    SPX  9999   \n",
       "501  108105.0  2021-12-28  1.248356  108105.0  64881510    SPX  9999   \n",
       "502  108105.0  2021-12-29  1.252619  108105.0  64881510    SPX  9999   \n",
       "503  108105.0  2021-12-30  1.246516  108105.0  64881510    SPX  9999   \n",
       "504  108105.0  2021-12-31  1.243227  108105.0  64881510    SPX  9999   \n",
       "\n",
       "    index_flag  exchange_d class issue_type industry_group  \n",
       "0            1     32768.0  None          A           None  \n",
       "1            1     32768.0  None          A           None  \n",
       "2            1     32768.0  None          A           None  \n",
       "3            1     32768.0  None          A           None  \n",
       "4            1     32768.0  None          A           None  \n",
       "..         ...         ...   ...        ...            ...  \n",
       "500          1     32768.0  None          A           None  \n",
       "501          1     32768.0  None          A           None  \n",
       "502          1     32768.0  None          A           None  \n",
       "503          1     32768.0  None          A           None  \n",
       "504          1     32768.0  None          A           None  \n",
       "\n",
       "[505 rows x 12 columns]"
      ]
     },
     "execution_count": 25,
     "metadata": {},
     "output_type": "execute_result"
    }
   ],
   "source": [
    "index_div_yield"
   ]
  },
  {
   "cell_type": "code",
   "execution_count": 28,
   "id": "e042abb4-814f-4faf-a697-806e1ec31044",
   "metadata": {},
   "outputs": [
    {
     "name": "stdout",
     "output_type": "stream",
     "text": [
      "Loading library list...\n",
      "Done\n"
     ]
    },
    {
     "data": {
      "text/plain": [
       "(0, 12)"
      ]
     },
     "execution_count": 28,
     "metadata": {},
     "output_type": "execute_result"
    }
   ],
   "source": [
    "import wrds\n",
    "db = wrds.Connection()\n",
    "index_div_yield = db.raw_sql(\"\"\"\n",
    "                                select *\n",
    "                                from optionm_all.idxdvd a, optionm_all.securd b\n",
    "                                where a.secid = b.secid\n",
    "                                and b.ticker = 'SPX'\n",
    "                                and a.date >= '01/01/2020'\n",
    "                                and a.date <= '12/31/2021'\n",
    "                                and b.class is not null\n",
    "                                order by a.date\n",
    "                             \"\"\", \n",
    "                             date_cols=['a.date'])\n",
    "index_div_yield.shape"
   ]
  },
  {
   "cell_type": "code",
   "execution_count": 29,
   "id": "3b07a79f-b951-41bb-b954-6c485d9d7a0b",
   "metadata": {},
   "outputs": [
    {
     "name": "stdout",
     "output_type": "stream",
     "text": [
      "Loading library list...\n",
      "Done\n"
     ]
    },
    {
     "data": {
      "text/plain": [
       "(0, 12)"
      ]
     },
     "execution_count": 29,
     "metadata": {},
     "output_type": "execute_result"
    }
   ],
   "source": [
    "import wrds\n",
    "db = wrds.Connection()\n",
    "index_div_yield = db.raw_sql(\"\"\"\n",
    "                                select *\n",
    "                                from optionm_all.idxdvd a, optionm_all.securd b\n",
    "                                where a.secid = b.secid\n",
    "                                and b.ticker = 'SPX'\n",
    "                                and a.date >= '01/01/2020'\n",
    "                                and a.date <= '12/31/2021'\n",
    "                                and b.industry_group is not null\n",
    "                                order by a.date\n",
    "                             \"\"\", \n",
    "                             date_cols=['a.date'])\n",
    "index_div_yield.shape"
   ]
  },
  {
   "cell_type": "code",
   "execution_count": 30,
   "id": "07a97938-f9c6-4d6a-a05c-cf03f14c9d66",
   "metadata": {},
   "outputs": [
    {
     "name": "stdout",
     "output_type": "stream",
     "text": [
      "Loading library list...\n",
      "Done\n"
     ]
    },
    {
     "data": {
      "text/plain": [
       "(0, 12)"
      ]
     },
     "execution_count": 30,
     "metadata": {},
     "output_type": "execute_result"
    }
   ],
   "source": [
    "import wrds\n",
    "db = wrds.Connection()\n",
    "index_div_yield = db.raw_sql(\"\"\"\n",
    "                                select *\n",
    "                                from optionm_all.idxdvd a, optionm_all.securd b\n",
    "                                where a.secid = b.secid\n",
    "                                and b.ticker = 'SPX'\n",
    "                                and a.date >= '01/01/2020'\n",
    "                                and a.date <= '12/31/2021'\n",
    "                                and (b.class is not null or industry_group is not null)\n",
    "                                order by a.date\n",
    "                             \"\"\", \n",
    "                             date_cols=['a.date'])\n",
    "index_div_yield.shape"
   ]
  },
  {
   "cell_type": "code",
   "execution_count": 34,
   "id": "4374df79-e4e1-4ad5-bb8a-5e2117a5960e",
   "metadata": {},
   "outputs": [
    {
     "name": "stdout",
     "output_type": "stream",
     "text": [
      "Loading library list...\n",
      "Done\n"
     ]
    },
    {
     "data": {
      "text/plain": [
       "(505, 9)"
      ]
     },
     "execution_count": 34,
     "metadata": {},
     "output_type": "execute_result"
    }
   ],
   "source": [
    "import wrds\n",
    "db = wrds.Connection()\n",
    "index_div_yield = db.raw_sql(\"\"\"\n",
    "                                select  b.issue_type, \n",
    "                                        b.index_flag, \n",
    "                                        b.exchange_d, \n",
    "                                        b.sic, \n",
    "                                        b.secid, \n",
    "                                        b.ticker, \n",
    "                                        b.cusip, \n",
    "                                        a.date, \n",
    "                                        a.rate  \n",
    "                                from optionm_all.idxdvd a, optionm_all.securd b\n",
    "                                where a.secid = b.secid\n",
    "                                and b.ticker = 'SPX'\n",
    "                                and a.date >= '01/01/2020'\n",
    "                                and a.date <= '12/31/2021'\n",
    "                                order by a.date\n",
    "                             \"\"\", \n",
    "                             date_cols=['a.date'])\n",
    "index_div_yield.shape"
   ]
  },
  {
   "cell_type": "code",
   "execution_count": 35,
   "id": "90b38e85-770e-44ff-b4ce-69b12fec15bc",
   "metadata": {},
   "outputs": [
    {
     "data": {
      "text/html": [
       "<div>\n",
       "<style scoped>\n",
       "    .dataframe tbody tr th:only-of-type {\n",
       "        vertical-align: middle;\n",
       "    }\n",
       "\n",
       "    .dataframe tbody tr th {\n",
       "        vertical-align: top;\n",
       "    }\n",
       "\n",
       "    .dataframe thead th {\n",
       "        text-align: right;\n",
       "    }\n",
       "</style>\n",
       "<table border=\"1\" class=\"dataframe\">\n",
       "  <thead>\n",
       "    <tr style=\"text-align: right;\">\n",
       "      <th></th>\n",
       "      <th>issue_type</th>\n",
       "      <th>index_flag</th>\n",
       "      <th>exchange_d</th>\n",
       "      <th>sic</th>\n",
       "      <th>secid</th>\n",
       "      <th>ticker</th>\n",
       "      <th>cusip</th>\n",
       "      <th>date</th>\n",
       "      <th>rate</th>\n",
       "    </tr>\n",
       "  </thead>\n",
       "  <tbody>\n",
       "    <tr>\n",
       "      <th>0</th>\n",
       "      <td>A</td>\n",
       "      <td>1</td>\n",
       "      <td>32768.0</td>\n",
       "      <td>9999</td>\n",
       "      <td>108105.0</td>\n",
       "      <td>SPX</td>\n",
       "      <td>64881510</td>\n",
       "      <td>2020-01-02</td>\n",
       "      <td>1.777138</td>\n",
       "    </tr>\n",
       "    <tr>\n",
       "      <th>1</th>\n",
       "      <td>A</td>\n",
       "      <td>1</td>\n",
       "      <td>32768.0</td>\n",
       "      <td>9999</td>\n",
       "      <td>108105.0</td>\n",
       "      <td>SPX</td>\n",
       "      <td>64881510</td>\n",
       "      <td>2020-01-03</td>\n",
       "      <td>1.783770</td>\n",
       "    </tr>\n",
       "    <tr>\n",
       "      <th>2</th>\n",
       "      <td>A</td>\n",
       "      <td>1</td>\n",
       "      <td>32768.0</td>\n",
       "      <td>9999</td>\n",
       "      <td>108105.0</td>\n",
       "      <td>SPX</td>\n",
       "      <td>64881510</td>\n",
       "      <td>2020-01-06</td>\n",
       "      <td>1.804811</td>\n",
       "    </tr>\n",
       "    <tr>\n",
       "      <th>3</th>\n",
       "      <td>A</td>\n",
       "      <td>1</td>\n",
       "      <td>32768.0</td>\n",
       "      <td>9999</td>\n",
       "      <td>108105.0</td>\n",
       "      <td>SPX</td>\n",
       "      <td>64881510</td>\n",
       "      <td>2020-01-07</td>\n",
       "      <td>1.809661</td>\n",
       "    </tr>\n",
       "    <tr>\n",
       "      <th>4</th>\n",
       "      <td>A</td>\n",
       "      <td>1</td>\n",
       "      <td>32768.0</td>\n",
       "      <td>9999</td>\n",
       "      <td>108105.0</td>\n",
       "      <td>SPX</td>\n",
       "      <td>64881510</td>\n",
       "      <td>2020-01-08</td>\n",
       "      <td>1.797900</td>\n",
       "    </tr>\n",
       "    <tr>\n",
       "      <th>...</th>\n",
       "      <td>...</td>\n",
       "      <td>...</td>\n",
       "      <td>...</td>\n",
       "      <td>...</td>\n",
       "      <td>...</td>\n",
       "      <td>...</td>\n",
       "      <td>...</td>\n",
       "      <td>...</td>\n",
       "      <td>...</td>\n",
       "    </tr>\n",
       "    <tr>\n",
       "      <th>500</th>\n",
       "      <td>A</td>\n",
       "      <td>1</td>\n",
       "      <td>32768.0</td>\n",
       "      <td>9999</td>\n",
       "      <td>108105.0</td>\n",
       "      <td>SPX</td>\n",
       "      <td>64881510</td>\n",
       "      <td>2021-12-27</td>\n",
       "      <td>1.245086</td>\n",
       "    </tr>\n",
       "    <tr>\n",
       "      <th>501</th>\n",
       "      <td>A</td>\n",
       "      <td>1</td>\n",
       "      <td>32768.0</td>\n",
       "      <td>9999</td>\n",
       "      <td>108105.0</td>\n",
       "      <td>SPX</td>\n",
       "      <td>64881510</td>\n",
       "      <td>2021-12-28</td>\n",
       "      <td>1.248356</td>\n",
       "    </tr>\n",
       "    <tr>\n",
       "      <th>502</th>\n",
       "      <td>A</td>\n",
       "      <td>1</td>\n",
       "      <td>32768.0</td>\n",
       "      <td>9999</td>\n",
       "      <td>108105.0</td>\n",
       "      <td>SPX</td>\n",
       "      <td>64881510</td>\n",
       "      <td>2021-12-29</td>\n",
       "      <td>1.252619</td>\n",
       "    </tr>\n",
       "    <tr>\n",
       "      <th>503</th>\n",
       "      <td>A</td>\n",
       "      <td>1</td>\n",
       "      <td>32768.0</td>\n",
       "      <td>9999</td>\n",
       "      <td>108105.0</td>\n",
       "      <td>SPX</td>\n",
       "      <td>64881510</td>\n",
       "      <td>2021-12-30</td>\n",
       "      <td>1.246516</td>\n",
       "    </tr>\n",
       "    <tr>\n",
       "      <th>504</th>\n",
       "      <td>A</td>\n",
       "      <td>1</td>\n",
       "      <td>32768.0</td>\n",
       "      <td>9999</td>\n",
       "      <td>108105.0</td>\n",
       "      <td>SPX</td>\n",
       "      <td>64881510</td>\n",
       "      <td>2021-12-31</td>\n",
       "      <td>1.243227</td>\n",
       "    </tr>\n",
       "  </tbody>\n",
       "</table>\n",
       "<p>505 rows × 9 columns</p>\n",
       "</div>"
      ],
      "text/plain": [
       "    issue_type index_flag  exchange_d   sic     secid ticker     cusip  \\\n",
       "0            A          1     32768.0  9999  108105.0    SPX  64881510   \n",
       "1            A          1     32768.0  9999  108105.0    SPX  64881510   \n",
       "2            A          1     32768.0  9999  108105.0    SPX  64881510   \n",
       "3            A          1     32768.0  9999  108105.0    SPX  64881510   \n",
       "4            A          1     32768.0  9999  108105.0    SPX  64881510   \n",
       "..         ...        ...         ...   ...       ...    ...       ...   \n",
       "500          A          1     32768.0  9999  108105.0    SPX  64881510   \n",
       "501          A          1     32768.0  9999  108105.0    SPX  64881510   \n",
       "502          A          1     32768.0  9999  108105.0    SPX  64881510   \n",
       "503          A          1     32768.0  9999  108105.0    SPX  64881510   \n",
       "504          A          1     32768.0  9999  108105.0    SPX  64881510   \n",
       "\n",
       "           date      rate  \n",
       "0    2020-01-02  1.777138  \n",
       "1    2020-01-03  1.783770  \n",
       "2    2020-01-06  1.804811  \n",
       "3    2020-01-07  1.809661  \n",
       "4    2020-01-08  1.797900  \n",
       "..          ...       ...  \n",
       "500  2021-12-27  1.245086  \n",
       "501  2021-12-28  1.248356  \n",
       "502  2021-12-29  1.252619  \n",
       "503  2021-12-30  1.246516  \n",
       "504  2021-12-31  1.243227  \n",
       "\n",
       "[505 rows x 9 columns]"
      ]
     },
     "execution_count": 35,
     "metadata": {},
     "output_type": "execute_result"
    }
   ],
   "source": [
    "index_div_yield"
   ]
  },
  {
   "cell_type": "code",
   "execution_count": null,
   "id": "8d8853b4-f8ba-4e29-8f55-0077f8fbc4a1",
   "metadata": {},
   "outputs": [],
   "source": []
  }
 ],
 "metadata": {
  "kernelspec": {
   "display_name": "Python 3 (ipykernel)",
   "language": "python",
   "name": "python3"
  },
  "language_info": {
   "codemirror_mode": {
    "name": "ipython",
    "version": 3
   },
   "file_extension": ".py",
   "mimetype": "text/x-python",
   "name": "python",
   "nbconvert_exporter": "python",
   "pygments_lexer": "ipython3",
   "version": "3.9.5"
  }
 },
 "nbformat": 4,
 "nbformat_minor": 5
}
